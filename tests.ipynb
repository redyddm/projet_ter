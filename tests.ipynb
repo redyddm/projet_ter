{
 "cells": [
  {
   "cell_type": "code",
   "execution_count": 1,
   "id": "b40b28cf",
   "metadata": {},
   "outputs": [],
   "source": [
    "import pandas as pd\n",
    "import numpy as np\n",
    "from sklearn.feature_extraction.text import TfidfVectorizer\n",
    "from sklearn.metrics.pairwise import cosine_similarity\n",
    "from sklearn.preprocessing import MinMaxScaler\n",
    "from surprise import Dataset, Reader, SVD\n",
    "from surprise.model_selection import train_test_split"
   ]
  },
  {
   "cell_type": "code",
   "execution_count": 2,
   "id": "86fdff68",
   "metadata": {},
   "outputs": [],
   "source": [
    "# ------------------------\n",
    "# 1. Jeu de données\n",
    "# ------------------------\n",
    "\n",
    "books = pd.DataFrame([\n",
    "    {'book_id': 1, 'title': 'Harry Potter', 'description': 'Magic and adventure at Hogwarts'},\n",
    "    {'book_id': 2, 'title': 'The Hobbit', 'description': 'A journey with dwarves and a dragon'},\n",
    "    {'book_id': 3, 'title': 'Twilight', 'description': 'Vampire romance in high school'},\n",
    "    {'book_id': 4, 'title': 'Dune', 'description': 'Sci-fi epic with politics and sandworms'},\n",
    "    {'book_id': 5, 'title': '1984', 'description': 'Dystopia under total surveillance'}\n",
    "])\n",
    "\n",
    "ratings = pd.DataFrame([\n",
    "    {'user_id': 'u1', 'book_id': 1, 'rating': 5},\n",
    "    {'user_id': 'u1', 'book_id': 2, 'rating': 4},\n",
    "    {'user_id': 'u2', 'book_id': 3, 'rating': 5},\n",
    "    {'user_id': 'u2', 'book_id': 4, 'rating': 2},\n",
    "    {'user_id': 'u3', 'book_id': 5, 'rating': 4}\n",
    "])"
   ]
  },
  {
   "cell_type": "code",
   "execution_count": 3,
   "id": "f5abe2ed",
   "metadata": {},
   "outputs": [],
   "source": [
    "# ------------------------\n",
    "# 2. TF-IDF + Similarité\n",
    "# ------------------------\n",
    "\n",
    "tfidf = TfidfVectorizer()\n",
    "tfidf_matrix = tfidf.fit_transform(books['description'])\n",
    "cosine_sim_matrix = cosine_similarity(tfidf_matrix)"
   ]
  },
  {
   "cell_type": "code",
   "execution_count": 4,
   "id": "8b5719e4",
   "metadata": {},
   "outputs": [
    {
     "data": {
      "text/plain": [
       "<surprise.prediction_algorithms.matrix_factorization.SVD at 0x2e404341660>"
      ]
     },
     "execution_count": 4,
     "metadata": {},
     "output_type": "execute_result"
    }
   ],
   "source": [
    "# ------------------------\n",
    "# 3. Collaborative Filtering (SVD)\n",
    "# ------------------------\n",
    "\n",
    "reader = Reader(rating_scale=(1, 5))\n",
    "data = Dataset.load_from_df(ratings[['user_id', 'book_id', 'rating']], reader)\n",
    "trainset, _ = train_test_split(data, test_size=0.2, random_state=42)\n",
    "svd = SVD()\n",
    "svd.fit(trainset)"
   ]
  },
  {
   "cell_type": "code",
   "execution_count": 5,
   "id": "cb52ee05",
   "metadata": {},
   "outputs": [],
   "source": [
    "# ------------------------\n",
    "# 4. Génération des scores hybrides pour un utilisateur donné\n",
    "# ------------------------\n",
    "\n",
    "def recommend_books(user_id, titre_reference, top_n=3, alpha=0.5):\n",
    "    # --- Trouver l'index du livre de référence\n",
    "    idx_ref = books[books['title'].str.lower() == titre_reference.lower()].index\n",
    "    if len(idx_ref) == 0:\n",
    "        print(\"Titre non trouvé.\")\n",
    "        return []\n",
    "    idx_ref = idx_ref[0]\n",
    "\n",
    "    # --- Similarité content-based\n",
    "    content_scores = cosine_sim_matrix[idx_ref]\n",
    "\n",
    "    # --- Collaborative filtering: prédiction SVD pour tous les livres\n",
    "    collab_scores = []\n",
    "    for book_id in books['book_id']:\n",
    "        pred = svd.predict(user_id, book_id)\n",
    "        collab_scores.append(pred.est)\n",
    "\n",
    "    # --- Normalisation des deux vecteurs\n",
    "    scaler = MinMaxScaler()\n",
    "    content_scores_norm = scaler.fit_transform(content_scores.reshape(-1, 1)).flatten()\n",
    "    collab_scores_norm = scaler.fit_transform(np.array(collab_scores).reshape(-1, 1)).flatten()\n",
    "\n",
    "    # --- Fusion des scores\n",
    "    hybrid_scores = alpha * content_scores_norm + (1 - alpha) * collab_scores_norm\n",
    "\n",
    "    # --- Préparation des résultats\n",
    "    books['hybrid_score'] = hybrid_scores\n",
    "    books_sorted = books.sort_values(by='hybrid_score', ascending=False)\n",
    "\n",
    "    # --- Ne pas recommander le livre de référence\n",
    "    books_sorted = books_sorted[books_sorted.index != idx_ref]\n",
    "\n",
    "    return books_sorted[['title', 'hybrid_score']].head(top_n)\n"
   ]
  },
  {
   "cell_type": "code",
   "execution_count": 11,
   "id": "75162cff",
   "metadata": {},
   "outputs": [
    {
     "name": "stdout",
     "output_type": "stream",
     "text": [
      "Recommandations pour l'utilisateur u1 basées sur : Harry Potter\n",
      "      title  hybrid_score\n",
      "3      Dune      0.451662\n",
      "4      1984      0.232535\n",
      "2  Twilight      0.180035\n"
     ]
    }
   ],
   "source": [
    "# ------------------------\n",
    "# 5. Test de la recommandation\n",
    "# ------------------------\n",
    "\n",
    "user = 'u1'\n",
    "titre_donne = 'Harry Potter'\n",
    "reco = recommend_books(user, titre_donne, top_n=3, alpha=0.6)\n",
    "print(\"Recommandations pour l'utilisateur\", user, \"basées sur :\", titre_donne)\n",
    "print(reco)\n"
   ]
  },
  {
   "cell_type": "code",
   "execution_count": 9,
   "id": "65fd3910",
   "metadata": {},
   "outputs": [],
   "source": [
    "import numpy as np\n",
    "from sklearn.metrics.pairwise import cosine_similarity\n",
    "from sklearn.preprocessing import MinMaxScaler\n",
    "\n",
    "def recommend_hybrid_no_reference(user_id, books, ratings, tfidf_matrix, svd_model, alpha=0.5, top_n=3):\n",
    "    # 1. Récupérer les livres notés positivement (rating >= 4)\n",
    "    livres_positifs = ratings[(ratings['user_id'] == user_id) & (ratings['rating'] >= 4)]\n",
    "    \n",
    "    if livres_positifs.empty:\n",
    "        print(\"Pas de livres notés positivement pour cet utilisateur.\")\n",
    "        # Fallback : recommander selon collaboratif seul\n",
    "        collab_scores = []\n",
    "        for book_id in books['book_id']:\n",
    "            pred = svd_model.predict(user_id, book_id)\n",
    "            collab_scores.append(pred.est)\n",
    "        scaler = MinMaxScaler()\n",
    "        collab_scores_norm = scaler.fit_transform(np.array(collab_scores).reshape(-1,1)).flatten()\n",
    "        books['hybrid_score'] = collab_scores_norm\n",
    "        return books.sort_values(by='hybrid_score', ascending=False).head(top_n)[['title', 'hybrid_score']]\n",
    "    \n",
    "    # 2. Récupérer indices des livres positifs dans books\n",
    "    indices = livres_positifs['book_id'].apply(lambda x: books.index[books['book_id'] == x][0])\n",
    "    \n",
    "    # 3. Extraire leurs embeddings TF-IDF et convertir en dense array\n",
    "    embeddings_positifs = tfidf_matrix[indices].toarray()\n",
    "    \n",
    "    # 4. Calculer la moyenne pour le profil utilisateur\n",
    "    profil_user = np.mean(embeddings_positifs, axis=0).reshape(1, -1)\n",
    "    \n",
    "    # 5. Calculer la similarité cosine entre profil_user et tous les livres (TF-IDF dense)\n",
    "    tfidf_matrix_dense = tfidf_matrix.toarray()\n",
    "    content_scores = cosine_similarity(profil_user, tfidf_matrix_dense).flatten()\n",
    "    \n",
    "    # 6. Prédiction collaborative\n",
    "    collab_scores = []\n",
    "    for book_id in books['book_id']:\n",
    "        pred = svd_model.predict(user_id, book_id)\n",
    "        collab_scores.append(pred.est)\n",
    "    \n",
    "    # 7. Normaliser scores content-based et collaboratif\n",
    "    scaler = MinMaxScaler()\n",
    "    content_scores_norm = scaler.fit_transform(content_scores.reshape(-1, 1)).flatten()\n",
    "    collab_scores_norm = scaler.fit_transform(np.array(collab_scores).reshape(-1, 1)).flatten()\n",
    "    \n",
    "    # 8. Combiner avec alpha\n",
    "    hybrid_scores = alpha * content_scores_norm + (1 - alpha) * collab_scores_norm\n",
    "    \n",
    "    # 9. Retourner les top N titres (exclure ceux déjà notés si souhaité)\n",
    "    books['hybrid_score'] = hybrid_scores\n",
    "    \n",
    "    # Optionnel : filtrer les livres déjà notés pour ne pas recommander les mêmes\n",
    "    livres_deja_notes = set(livres_positifs['book_id'])\n",
    "    recommendations = books[~books['book_id'].isin(livres_deja_notes)]\n",
    "    \n",
    "    recommendations = recommendations.sort_values(by='hybrid_score', ascending=False).head(top_n)\n",
    "    \n",
    "    return recommendations[['title', 'hybrid_score']]\n"
   ]
  },
  {
   "cell_type": "code",
   "execution_count": 10,
   "id": "6b51da43",
   "metadata": {},
   "outputs": [
    {
     "name": "stdout",
     "output_type": "stream",
     "text": [
      "      title  hybrid_score\n",
      "3      Dune      0.566134\n",
      "4      1984      0.232535\n",
      "2  Twilight      0.180035\n"
     ]
    }
   ],
   "source": [
    "recos = recommend_hybrid_no_reference('u1', books, ratings, tfidf_matrix, svd, alpha=0.6, top_n=3)\n",
    "print(recos)\n"
   ]
  },
  {
   "cell_type": "code",
   "execution_count": null,
   "id": "57be290a",
   "metadata": {},
   "outputs": [],
   "source": []
  }
 ],
 "metadata": {
  "kernelspec": {
   "display_name": "Python 3",
   "language": "python",
   "name": "python3"
  },
  "language_info": {
   "codemirror_mode": {
    "name": "ipython",
    "version": 3
   },
   "file_extension": ".py",
   "mimetype": "text/x-python",
   "name": "python",
   "nbconvert_exporter": "python",
   "pygments_lexer": "ipython3",
   "version": "3.10.11"
  }
 },
 "nbformat": 4,
 "nbformat_minor": 5
}
