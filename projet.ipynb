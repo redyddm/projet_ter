{
  "cells": [
    {
      "cell_type": "markdown",
      "id": "61489dc7",
      "metadata": {
        "id": "61489dc7"
      },
      "source": [
        "# TER\n",
        "## Système de recommandation de livres basé sur le contenu"
      ]
    },
    {
      "cell_type": "markdown",
      "id": "1539dd16",
      "metadata": {},
      "source": [
        "# Cahier des charges\n",
        "\n",
        "Projet : Système de recommandation de livres\n",
        "\n",
        "Objectif : \n",
        "- Prédire les livres qu'un utilisateur pourrait aimer en fonction de ses préférences (recommandation     collaborative) et des similarités avec d'autres livres (recommandation basée sur le contenu)\n",
        "\n",
        "Techniques Utilisées :\n",
        "- Filtrage collaboratif (basé-mémoire/basé-modèle)\n",
        "- Recommandation basée sur le contenu (TF-IDF, embeddings : Word2Vec, GloVe, etc)\n",
        "- Modèles : KNN, SVD, NMF, etc\n",
        "\n",
        "Étapes :\n",
        "\n",
        "Dataset\n",
        "- Utiliser : https://www.kaggle.com/datasets/arashnic/book-recommendation-dataset?select=Users.csv\n",
        "- Tester d’autres datasets de recommandation de livres\n",
        "\n",
        "Prétraitement\n",
        "- Nettoyage des données (valeurs manquantes, doublons)\n",
        "- Feature engineering (genres, auteurs, notes moyennes)\n",
        "- Vectorisation des textes (titres, descriptions) avec TF-IDF, Word2Vec, GloVe, etc\n",
        "\n",
        "Algorithmes\n",
        "- Collaboratif : matrice utilisateur-livre, SVD, NMF, KNN, etc\n",
        "- Basé sur le contenu : similarité cosinus sur les features textuelles\n",
        "\n",
        "Évaluation \n",
        "- RMSE, précision des notes prédites, etc\n",
        "\n",
        "Interface Graphique\n",
        "- Exploration des données \n",
        "    - Chargement de données\n",
        "    - Affichages des statistiques sur les données (analytique et graphique)\n",
        "\n",
        "- Entrainement \n",
        "    - Choix de la méthode (basée contenu, collaborative), choix du modèle, paramétrage\n",
        "    - Affichage des métriques\n",
        "\n",
        "- Test \n",
        "    - Créer un profil avec un ID utilisateur et ses notations, afficher les recommandations collaboratives et celles basées sur le contenu\n",
        "    - Saisie d’un ID utilisateur existant et prédire des recommandations collaboratives et celles basées sur le contenu"
      ]
    },
    {
      "cell_type": "markdown",
      "id": "a0008d40",
      "metadata": {
        "id": "a0008d40"
      },
      "source": [
        "## Problématique\n",
        "\n",
        "Comment concevoir un système de recommandation de livres efficace, capable d'exploiter le contenu textuel pour proposer des ouvrages similaires à ceux appréciés par un lecteur, sans dépendre de l'historique global des utilisateurs ?"
      ]
    },
    {
      "cell_type": "markdown",
      "id": "017f2cb3",
      "metadata": {
        "id": "017f2cb3"
      },
      "source": [
        "## Objectif\n",
        "\n",
        "Prédire les livres qu'un utilisateur pourrait aimer en fonction de ses préférences (recommandation collaborative) et des similarités avec d'autres livres (recommandation basée sur le contenu)"
      ]
    },
    {
      "cell_type": "markdown",
      "id": "a80c78af",
      "metadata": {
        "id": "a80c78af"
      },
      "source": [
        "## Exploration des données\n",
        "\n",
        "## Prétraitement\n",
        "\n",
        "- Nettoyer les données (dropna, enlever les stop words (nltk ou sk-learn)...)\n",
        "- Eviter la casse\n",
        "- Tokenisation\n",
        "\n",
        "## Partie basée sur le contenu\n",
        "\n",
        "### Modèle\n",
        "\n",
        "- Utilisation de Word2Vec (gensim models)\n",
        "(pas sûr mais peut-être passer à BERT pour du deep learning) (TF-IDF)\n",
        "- Entrainement du modèle sur les données\n",
        "\n",
        "### Système de recommandation\n",
        "\n",
        "- Calculer la similarité (cosine silimarity ou retourner les vecteurs les plus proches)\n",
        "\n",
        "## Partie recommandation collaborative\n",
        "\n",
        "### Modèle\n",
        "\n",
        "- SVD (Surprise), Matrix Factorization-based algorithms\n",
        "\n",
        "### Système de recommandation\n",
        "\n",
        "- Prendre n premiers éléments renvoyés dans la prédiction du modèle\n",
        "\n",
        "## Partie recommandation hybride\n",
        "\n",
        "- Combiner les deux scores pour recommander un livre (addition avec un poids alpha qui pourrait servir à contrôler l'influence du type de recommandation)\n",
        "\n",
        "- Renvoie les n meilleures recommandations\n",
        "\n",
        "## Interface graphique\n",
        "\n",
        "- Streamlit/Flask"
      ]
    },
    {
      "cell_type": "markdown",
      "id": "d4f965b5",
      "metadata": {
        "id": "d4f965b5"
      },
      "source": [
        "# A reflechir\n",
        "\n",
        "### Apprentissage supervisé\n",
        "\n",
        "- classes basées sur le genre -> filtrer lors de la recommandation en focntion de celui-ci"
      ]
    },
    {
      "cell_type": "markdown",
      "id": "8c0dc1ad",
      "metadata": {
        "id": "8c0dc1ad"
      },
      "source": [
        "# Comparaison des modèles\n",
        "\n",
        "Comparer les modèles (une 10aine) pour la partie collaborative, optimiser les hyper paramètres etc"
      ]
    },
    {
      "cell_type": "markdown",
      "id": "410f27d4",
      "metadata": {
        "id": "410f27d4"
      },
      "source": [
        "# Application\n",
        "\n",
        "Ajout de la création d'un profil"
      ]
    },
    {
      "cell_type": "code",
      "execution_count": 1,
      "id": "cc7672f0",
      "metadata": {
        "id": "cc7672f0"
      },
      "outputs": [],
      "source": [
        "import pandas as pd\n",
        "import numpy as np\n",
        "from surprise import Dataset, Reader, SVD"
      ]
    },
    {
      "cell_type": "code",
      "execution_count": 2,
      "id": "cad706c8",
      "metadata": {
        "colab": {
          "base_uri": "https://localhost:8080/"
        },
        "id": "cad706c8",
        "outputId": "3ce2078f-3ca5-41aa-c6c0-48585dcc12f1"
      },
      "outputs": [
        {
          "name": "stderr",
          "output_type": "stream",
          "text": [
            "C:\\Users\\solut\\AppData\\Local\\Temp\\ipykernel_14184\\1818534166.py:3: DtypeWarning: Columns (3) have mixed types. Specify dtype option on import or set low_memory=False.\n",
            "  books = pd.read_csv(path+\"Books.csv\")\n"
          ]
        }
      ],
      "source": [
        "path = \"./datasets/\"\n",
        "\n",
        "books = pd.read_csv(path+\"Books.csv\")\n",
        "users= pd.read_csv(path+\"Users.csv\")\n",
        "ratings = pd.read_csv(path+\"Ratings.csv\")"
      ]
    },
    {
      "cell_type": "code",
      "execution_count": 3,
      "id": "33b41c3e",
      "metadata": {
        "id": "33b41c3e"
      },
      "outputs": [],
      "source": [
        "def show_image(url, width=100):\n",
        "    return f'<img src=\"{url}\" width=\"{width}\">'\n",
        "\n",
        "def url_to_img(df, func):\n",
        "    return df.style.format({'Image-URL-S':func, 'Image-URL-M':func, 'Image-URL-L':func}, escape=False)\n"
      ]
    },
    {
      "cell_type": "code",
      "execution_count": 4,
      "id": "46b8bbaa",
      "metadata": {
        "colab": {
          "base_uri": "https://localhost:8080/",
          "height": 836
        },
        "id": "46b8bbaa",
        "outputId": "255448a8-4088-4abb-c094-e8290f4f56d1"
      },
      "outputs": [
        {
          "data": {
            "text/html": [
              "<style type=\"text/css\">\n",
              "</style>\n",
              "<table id=\"T_2f24f\">\n",
              "  <thead>\n",
              "    <tr>\n",
              "      <th class=\"blank level0\" >&nbsp;</th>\n",
              "      <th id=\"T_2f24f_level0_col0\" class=\"col_heading level0 col0\" >ISBN</th>\n",
              "      <th id=\"T_2f24f_level0_col1\" class=\"col_heading level0 col1\" >Book-Title</th>\n",
              "      <th id=\"T_2f24f_level0_col2\" class=\"col_heading level0 col2\" >Book-Author</th>\n",
              "      <th id=\"T_2f24f_level0_col3\" class=\"col_heading level0 col3\" >Year-Of-Publication</th>\n",
              "      <th id=\"T_2f24f_level0_col4\" class=\"col_heading level0 col4\" >Publisher</th>\n",
              "      <th id=\"T_2f24f_level0_col5\" class=\"col_heading level0 col5\" >Image-URL-S</th>\n",
              "      <th id=\"T_2f24f_level0_col6\" class=\"col_heading level0 col6\" >Image-URL-M</th>\n",
              "      <th id=\"T_2f24f_level0_col7\" class=\"col_heading level0 col7\" >Image-URL-L</th>\n",
              "    </tr>\n",
              "  </thead>\n",
              "  <tbody>\n",
              "    <tr>\n",
              "      <th id=\"T_2f24f_level0_row0\" class=\"row_heading level0 row0\" >0</th>\n",
              "      <td id=\"T_2f24f_row0_col0\" class=\"data row0 col0\" >0195153448</td>\n",
              "      <td id=\"T_2f24f_row0_col1\" class=\"data row0 col1\" >Classical Mythology</td>\n",
              "      <td id=\"T_2f24f_row0_col2\" class=\"data row0 col2\" >Mark P. O. Morford</td>\n",
              "      <td id=\"T_2f24f_row0_col3\" class=\"data row0 col3\" >2002</td>\n",
              "      <td id=\"T_2f24f_row0_col4\" class=\"data row0 col4\" >Oxford University Press</td>\n",
              "      <td id=\"T_2f24f_row0_col5\" class=\"data row0 col5\" ><img src=\"http://images.amazon.com/images/P/0195153448.01.THUMBZZZ.jpg\" width=\"100\"></td>\n",
              "      <td id=\"T_2f24f_row0_col6\" class=\"data row0 col6\" ><img src=\"http://images.amazon.com/images/P/0195153448.01.MZZZZZZZ.jpg\" width=\"100\"></td>\n",
              "      <td id=\"T_2f24f_row0_col7\" class=\"data row0 col7\" ><img src=\"http://images.amazon.com/images/P/0195153448.01.LZZZZZZZ.jpg\" width=\"100\"></td>\n",
              "    </tr>\n",
              "    <tr>\n",
              "      <th id=\"T_2f24f_level0_row1\" class=\"row_heading level0 row1\" >1</th>\n",
              "      <td id=\"T_2f24f_row1_col0\" class=\"data row1 col0\" >0002005018</td>\n",
              "      <td id=\"T_2f24f_row1_col1\" class=\"data row1 col1\" >Clara Callan</td>\n",
              "      <td id=\"T_2f24f_row1_col2\" class=\"data row1 col2\" >Richard Bruce Wright</td>\n",
              "      <td id=\"T_2f24f_row1_col3\" class=\"data row1 col3\" >2001</td>\n",
              "      <td id=\"T_2f24f_row1_col4\" class=\"data row1 col4\" >HarperFlamingo Canada</td>\n",
              "      <td id=\"T_2f24f_row1_col5\" class=\"data row1 col5\" ><img src=\"http://images.amazon.com/images/P/0002005018.01.THUMBZZZ.jpg\" width=\"100\"></td>\n",
              "      <td id=\"T_2f24f_row1_col6\" class=\"data row1 col6\" ><img src=\"http://images.amazon.com/images/P/0002005018.01.MZZZZZZZ.jpg\" width=\"100\"></td>\n",
              "      <td id=\"T_2f24f_row1_col7\" class=\"data row1 col7\" ><img src=\"http://images.amazon.com/images/P/0002005018.01.LZZZZZZZ.jpg\" width=\"100\"></td>\n",
              "    </tr>\n",
              "    <tr>\n",
              "      <th id=\"T_2f24f_level0_row2\" class=\"row_heading level0 row2\" >2</th>\n",
              "      <td id=\"T_2f24f_row2_col0\" class=\"data row2 col0\" >0060973129</td>\n",
              "      <td id=\"T_2f24f_row2_col1\" class=\"data row2 col1\" >Decision in Normandy</td>\n",
              "      <td id=\"T_2f24f_row2_col2\" class=\"data row2 col2\" >Carlo D'Este</td>\n",
              "      <td id=\"T_2f24f_row2_col3\" class=\"data row2 col3\" >1991</td>\n",
              "      <td id=\"T_2f24f_row2_col4\" class=\"data row2 col4\" >HarperPerennial</td>\n",
              "      <td id=\"T_2f24f_row2_col5\" class=\"data row2 col5\" ><img src=\"http://images.amazon.com/images/P/0060973129.01.THUMBZZZ.jpg\" width=\"100\"></td>\n",
              "      <td id=\"T_2f24f_row2_col6\" class=\"data row2 col6\" ><img src=\"http://images.amazon.com/images/P/0060973129.01.MZZZZZZZ.jpg\" width=\"100\"></td>\n",
              "      <td id=\"T_2f24f_row2_col7\" class=\"data row2 col7\" ><img src=\"http://images.amazon.com/images/P/0060973129.01.LZZZZZZZ.jpg\" width=\"100\"></td>\n",
              "    </tr>\n",
              "    <tr>\n",
              "      <th id=\"T_2f24f_level0_row3\" class=\"row_heading level0 row3\" >3</th>\n",
              "      <td id=\"T_2f24f_row3_col0\" class=\"data row3 col0\" >0374157065</td>\n",
              "      <td id=\"T_2f24f_row3_col1\" class=\"data row3 col1\" >Flu: The Story of the Great Influenza Pandemic of 1918 and the Search for the Virus That Caused It</td>\n",
              "      <td id=\"T_2f24f_row3_col2\" class=\"data row3 col2\" >Gina Bari Kolata</td>\n",
              "      <td id=\"T_2f24f_row3_col3\" class=\"data row3 col3\" >1999</td>\n",
              "      <td id=\"T_2f24f_row3_col4\" class=\"data row3 col4\" >Farrar Straus Giroux</td>\n",
              "      <td id=\"T_2f24f_row3_col5\" class=\"data row3 col5\" ><img src=\"http://images.amazon.com/images/P/0374157065.01.THUMBZZZ.jpg\" width=\"100\"></td>\n",
              "      <td id=\"T_2f24f_row3_col6\" class=\"data row3 col6\" ><img src=\"http://images.amazon.com/images/P/0374157065.01.MZZZZZZZ.jpg\" width=\"100\"></td>\n",
              "      <td id=\"T_2f24f_row3_col7\" class=\"data row3 col7\" ><img src=\"http://images.amazon.com/images/P/0374157065.01.LZZZZZZZ.jpg\" width=\"100\"></td>\n",
              "    </tr>\n",
              "    <tr>\n",
              "      <th id=\"T_2f24f_level0_row4\" class=\"row_heading level0 row4\" >4</th>\n",
              "      <td id=\"T_2f24f_row4_col0\" class=\"data row4 col0\" >0393045218</td>\n",
              "      <td id=\"T_2f24f_row4_col1\" class=\"data row4 col1\" >The Mummies of Urumchi</td>\n",
              "      <td id=\"T_2f24f_row4_col2\" class=\"data row4 col2\" >E. J. W. Barber</td>\n",
              "      <td id=\"T_2f24f_row4_col3\" class=\"data row4 col3\" >1999</td>\n",
              "      <td id=\"T_2f24f_row4_col4\" class=\"data row4 col4\" >W. W. Norton &amp; Company</td>\n",
              "      <td id=\"T_2f24f_row4_col5\" class=\"data row4 col5\" ><img src=\"http://images.amazon.com/images/P/0393045218.01.THUMBZZZ.jpg\" width=\"100\"></td>\n",
              "      <td id=\"T_2f24f_row4_col6\" class=\"data row4 col6\" ><img src=\"http://images.amazon.com/images/P/0393045218.01.MZZZZZZZ.jpg\" width=\"100\"></td>\n",
              "      <td id=\"T_2f24f_row4_col7\" class=\"data row4 col7\" ><img src=\"http://images.amazon.com/images/P/0393045218.01.LZZZZZZZ.jpg\" width=\"100\"></td>\n",
              "    </tr>\n",
              "  </tbody>\n",
              "</table>\n"
            ],
            "text/plain": [
              "<pandas.io.formats.style.Styler at 0x29fe9fcfe50>"
            ]
          },
          "execution_count": 4,
          "metadata": {},
          "output_type": "execute_result"
        }
      ],
      "source": [
        "books.head().style.format({'Image-URL-S':show_image, 'Image-URL-M':show_image, 'Image-URL-L':show_image})"
      ]
    },
    {
      "cell_type": "code",
      "execution_count": 5,
      "id": "6eaafb1a",
      "metadata": {
        "colab": {
          "base_uri": "https://localhost:8080/",
          "height": 206
        },
        "id": "6eaafb1a",
        "outputId": "079aa14f-dcfb-47f2-e380-4aa35b7bf15d"
      },
      "outputs": [
        {
          "data": {
            "text/html": [
              "<div>\n",
              "<style scoped>\n",
              "    .dataframe tbody tr th:only-of-type {\n",
              "        vertical-align: middle;\n",
              "    }\n",
              "\n",
              "    .dataframe tbody tr th {\n",
              "        vertical-align: top;\n",
              "    }\n",
              "\n",
              "    .dataframe thead th {\n",
              "        text-align: right;\n",
              "    }\n",
              "</style>\n",
              "<table border=\"1\" class=\"dataframe\">\n",
              "  <thead>\n",
              "    <tr style=\"text-align: right;\">\n",
              "      <th></th>\n",
              "      <th>User-ID</th>\n",
              "      <th>Location</th>\n",
              "      <th>Age</th>\n",
              "    </tr>\n",
              "  </thead>\n",
              "  <tbody>\n",
              "    <tr>\n",
              "      <th>0</th>\n",
              "      <td>1</td>\n",
              "      <td>nyc, new york, usa</td>\n",
              "      <td>NaN</td>\n",
              "    </tr>\n",
              "    <tr>\n",
              "      <th>1</th>\n",
              "      <td>2</td>\n",
              "      <td>stockton, california, usa</td>\n",
              "      <td>18.0</td>\n",
              "    </tr>\n",
              "    <tr>\n",
              "      <th>2</th>\n",
              "      <td>3</td>\n",
              "      <td>moscow, yukon territory, russia</td>\n",
              "      <td>NaN</td>\n",
              "    </tr>\n",
              "    <tr>\n",
              "      <th>3</th>\n",
              "      <td>4</td>\n",
              "      <td>porto, v.n.gaia, portugal</td>\n",
              "      <td>17.0</td>\n",
              "    </tr>\n",
              "    <tr>\n",
              "      <th>4</th>\n",
              "      <td>5</td>\n",
              "      <td>farnborough, hants, united kingdom</td>\n",
              "      <td>NaN</td>\n",
              "    </tr>\n",
              "  </tbody>\n",
              "</table>\n",
              "</div>"
            ],
            "text/plain": [
              "   User-ID                            Location   Age\n",
              "0        1                  nyc, new york, usa   NaN\n",
              "1        2           stockton, california, usa  18.0\n",
              "2        3     moscow, yukon territory, russia   NaN\n",
              "3        4           porto, v.n.gaia, portugal  17.0\n",
              "4        5  farnborough, hants, united kingdom   NaN"
            ]
          },
          "execution_count": 5,
          "metadata": {},
          "output_type": "execute_result"
        }
      ],
      "source": [
        "users.head()"
      ]
    },
    {
      "cell_type": "code",
      "execution_count": 6,
      "id": "096c4604",
      "metadata": {
        "colab": {
          "base_uri": "https://localhost:8080/",
          "height": 206
        },
        "id": "096c4604",
        "outputId": "abb83b49-d65a-46bb-af31-693e6c2a12f4"
      },
      "outputs": [
        {
          "data": {
            "text/html": [
              "<div>\n",
              "<style scoped>\n",
              "    .dataframe tbody tr th:only-of-type {\n",
              "        vertical-align: middle;\n",
              "    }\n",
              "\n",
              "    .dataframe tbody tr th {\n",
              "        vertical-align: top;\n",
              "    }\n",
              "\n",
              "    .dataframe thead th {\n",
              "        text-align: right;\n",
              "    }\n",
              "</style>\n",
              "<table border=\"1\" class=\"dataframe\">\n",
              "  <thead>\n",
              "    <tr style=\"text-align: right;\">\n",
              "      <th></th>\n",
              "      <th>User-ID</th>\n",
              "      <th>ISBN</th>\n",
              "      <th>Book-Rating</th>\n",
              "    </tr>\n",
              "  </thead>\n",
              "  <tbody>\n",
              "    <tr>\n",
              "      <th>0</th>\n",
              "      <td>276725</td>\n",
              "      <td>034545104X</td>\n",
              "      <td>0</td>\n",
              "    </tr>\n",
              "    <tr>\n",
              "      <th>1</th>\n",
              "      <td>276726</td>\n",
              "      <td>0155061224</td>\n",
              "      <td>5</td>\n",
              "    </tr>\n",
              "    <tr>\n",
              "      <th>2</th>\n",
              "      <td>276727</td>\n",
              "      <td>0446520802</td>\n",
              "      <td>0</td>\n",
              "    </tr>\n",
              "    <tr>\n",
              "      <th>3</th>\n",
              "      <td>276729</td>\n",
              "      <td>052165615X</td>\n",
              "      <td>3</td>\n",
              "    </tr>\n",
              "    <tr>\n",
              "      <th>4</th>\n",
              "      <td>276729</td>\n",
              "      <td>0521795028</td>\n",
              "      <td>6</td>\n",
              "    </tr>\n",
              "  </tbody>\n",
              "</table>\n",
              "</div>"
            ],
            "text/plain": [
              "   User-ID        ISBN  Book-Rating\n",
              "0   276725  034545104X            0\n",
              "1   276726  0155061224            5\n",
              "2   276727  0446520802            0\n",
              "3   276729  052165615X            3\n",
              "4   276729  0521795028            6"
            ]
          },
          "execution_count": 6,
          "metadata": {},
          "output_type": "execute_result"
        }
      ],
      "source": [
        "ratings.head()"
      ]
    },
    {
      "cell_type": "code",
      "execution_count": 7,
      "id": "6b3387c9",
      "metadata": {
        "colab": {
          "base_uri": "https://localhost:8080/",
          "height": 877
        },
        "id": "6b3387c9",
        "outputId": "8dcf1ac7-e2e0-4bc9-b8f2-dc835c697020"
      },
      "outputs": [
        {
          "data": {
            "text/html": [
              "<div>\n",
              "<style scoped>\n",
              "    .dataframe tbody tr th:only-of-type {\n",
              "        vertical-align: middle;\n",
              "    }\n",
              "\n",
              "    .dataframe tbody tr th {\n",
              "        vertical-align: top;\n",
              "    }\n",
              "\n",
              "    .dataframe thead th {\n",
              "        text-align: right;\n",
              "    }\n",
              "</style>\n",
              "<table border=\"1\" class=\"dataframe\">\n",
              "  <thead>\n",
              "    <tr style=\"text-align: right;\">\n",
              "      <th></th>\n",
              "      <th>ISBN</th>\n",
              "      <th>Book-Title</th>\n",
              "      <th>Book-Author</th>\n",
              "      <th>Year-Of-Publication</th>\n",
              "      <th>Publisher</th>\n",
              "      <th>Image-URL-S</th>\n",
              "      <th>Image-URL-M</th>\n",
              "      <th>Image-URL-L</th>\n",
              "    </tr>\n",
              "  </thead>\n",
              "  <tbody>\n",
              "    <tr>\n",
              "      <th>0</th>\n",
              "      <td>0195153448</td>\n",
              "      <td>classical mythology</td>\n",
              "      <td>mark p. o. morford</td>\n",
              "      <td>2002</td>\n",
              "      <td>oxford university press</td>\n",
              "      <td>http://images.amazon.com/images/P/0195153448.0...</td>\n",
              "      <td>http://images.amazon.com/images/P/0195153448.0...</td>\n",
              "      <td>http://images.amazon.com/images/P/0195153448.0...</td>\n",
              "    </tr>\n",
              "    <tr>\n",
              "      <th>1</th>\n",
              "      <td>0002005018</td>\n",
              "      <td>clara callan</td>\n",
              "      <td>richard bruce wright</td>\n",
              "      <td>2001</td>\n",
              "      <td>harperflamingo canada</td>\n",
              "      <td>http://images.amazon.com/images/P/0002005018.0...</td>\n",
              "      <td>http://images.amazon.com/images/P/0002005018.0...</td>\n",
              "      <td>http://images.amazon.com/images/P/0002005018.0...</td>\n",
              "    </tr>\n",
              "    <tr>\n",
              "      <th>2</th>\n",
              "      <td>0060973129</td>\n",
              "      <td>decision in normandy</td>\n",
              "      <td>carlo d'este</td>\n",
              "      <td>1991</td>\n",
              "      <td>harperperennial</td>\n",
              "      <td>http://images.amazon.com/images/P/0060973129.0...</td>\n",
              "      <td>http://images.amazon.com/images/P/0060973129.0...</td>\n",
              "      <td>http://images.amazon.com/images/P/0060973129.0...</td>\n",
              "    </tr>\n",
              "    <tr>\n",
              "      <th>3</th>\n",
              "      <td>0374157065</td>\n",
              "      <td>flu: the story of the great influenza pandemic...</td>\n",
              "      <td>gina bari kolata</td>\n",
              "      <td>1999</td>\n",
              "      <td>farrar straus giroux</td>\n",
              "      <td>http://images.amazon.com/images/P/0374157065.0...</td>\n",
              "      <td>http://images.amazon.com/images/P/0374157065.0...</td>\n",
              "      <td>http://images.amazon.com/images/P/0374157065.0...</td>\n",
              "    </tr>\n",
              "    <tr>\n",
              "      <th>4</th>\n",
              "      <td>0393045218</td>\n",
              "      <td>the mummies of urumchi</td>\n",
              "      <td>e. j. w. barber</td>\n",
              "      <td>1999</td>\n",
              "      <td>w. w. norton &amp;amp; company</td>\n",
              "      <td>http://images.amazon.com/images/P/0393045218.0...</td>\n",
              "      <td>http://images.amazon.com/images/P/0393045218.0...</td>\n",
              "      <td>http://images.amazon.com/images/P/0393045218.0...</td>\n",
              "    </tr>\n",
              "    <tr>\n",
              "      <th>...</th>\n",
              "      <td>...</td>\n",
              "      <td>...</td>\n",
              "      <td>...</td>\n",
              "      <td>...</td>\n",
              "      <td>...</td>\n",
              "      <td>...</td>\n",
              "      <td>...</td>\n",
              "      <td>...</td>\n",
              "    </tr>\n",
              "    <tr>\n",
              "      <th>271355</th>\n",
              "      <td>0440400988</td>\n",
              "      <td>there's a bat in bunk five</td>\n",
              "      <td>paula danziger</td>\n",
              "      <td>1988</td>\n",
              "      <td>random house childrens pub (mm)</td>\n",
              "      <td>http://images.amazon.com/images/P/0440400988.0...</td>\n",
              "      <td>http://images.amazon.com/images/P/0440400988.0...</td>\n",
              "      <td>http://images.amazon.com/images/P/0440400988.0...</td>\n",
              "    </tr>\n",
              "    <tr>\n",
              "      <th>271356</th>\n",
              "      <td>0525447644</td>\n",
              "      <td>from one to one hundred</td>\n",
              "      <td>teri sloat</td>\n",
              "      <td>1991</td>\n",
              "      <td>dutton books</td>\n",
              "      <td>http://images.amazon.com/images/P/0525447644.0...</td>\n",
              "      <td>http://images.amazon.com/images/P/0525447644.0...</td>\n",
              "      <td>http://images.amazon.com/images/P/0525447644.0...</td>\n",
              "    </tr>\n",
              "    <tr>\n",
              "      <th>271357</th>\n",
              "      <td>006008667X</td>\n",
              "      <td>lily dale : the true story of the town that ta...</td>\n",
              "      <td>christine wicker</td>\n",
              "      <td>2004</td>\n",
              "      <td>harpersanfrancisco</td>\n",
              "      <td>http://images.amazon.com/images/P/006008667X.0...</td>\n",
              "      <td>http://images.amazon.com/images/P/006008667X.0...</td>\n",
              "      <td>http://images.amazon.com/images/P/006008667X.0...</td>\n",
              "    </tr>\n",
              "    <tr>\n",
              "      <th>271358</th>\n",
              "      <td>0192126040</td>\n",
              "      <td>republic (world's classics)</td>\n",
              "      <td>plato</td>\n",
              "      <td>1996</td>\n",
              "      <td>oxford university press</td>\n",
              "      <td>http://images.amazon.com/images/P/0192126040.0...</td>\n",
              "      <td>http://images.amazon.com/images/P/0192126040.0...</td>\n",
              "      <td>http://images.amazon.com/images/P/0192126040.0...</td>\n",
              "    </tr>\n",
              "    <tr>\n",
              "      <th>271359</th>\n",
              "      <td>0767409752</td>\n",
              "      <td>a guided tour of rene descartes' meditations o...</td>\n",
              "      <td>christopher  biffle</td>\n",
              "      <td>2000</td>\n",
              "      <td>mcgraw-hill humanities/social sciences/languages</td>\n",
              "      <td>http://images.amazon.com/images/P/0767409752.0...</td>\n",
              "      <td>http://images.amazon.com/images/P/0767409752.0...</td>\n",
              "      <td>http://images.amazon.com/images/P/0767409752.0...</td>\n",
              "    </tr>\n",
              "  </tbody>\n",
              "</table>\n",
              "<p>271360 rows × 8 columns</p>\n",
              "</div>"
            ],
            "text/plain": [
              "              ISBN                                         Book-Title  \\\n",
              "0       0195153448                                classical mythology   \n",
              "1       0002005018                                       clara callan   \n",
              "2       0060973129                               decision in normandy   \n",
              "3       0374157065  flu: the story of the great influenza pandemic...   \n",
              "4       0393045218                             the mummies of urumchi   \n",
              "...            ...                                                ...   \n",
              "271355  0440400988                         there's a bat in bunk five   \n",
              "271356  0525447644                            from one to one hundred   \n",
              "271357  006008667X  lily dale : the true story of the town that ta...   \n",
              "271358  0192126040                        republic (world's classics)   \n",
              "271359  0767409752  a guided tour of rene descartes' meditations o...   \n",
              "\n",
              "                 Book-Author Year-Of-Publication  \\\n",
              "0         mark p. o. morford                2002   \n",
              "1       richard bruce wright                2001   \n",
              "2               carlo d'este                1991   \n",
              "3           gina bari kolata                1999   \n",
              "4            e. j. w. barber                1999   \n",
              "...                      ...                 ...   \n",
              "271355        paula danziger                1988   \n",
              "271356            teri sloat                1991   \n",
              "271357      christine wicker                2004   \n",
              "271358                 plato                1996   \n",
              "271359   christopher  biffle                2000   \n",
              "\n",
              "                                               Publisher  \\\n",
              "0                                oxford university press   \n",
              "1                                  harperflamingo canada   \n",
              "2                                        harperperennial   \n",
              "3                                   farrar straus giroux   \n",
              "4                             w. w. norton &amp; company   \n",
              "...                                                  ...   \n",
              "271355                   random house childrens pub (mm)   \n",
              "271356                                      dutton books   \n",
              "271357                                harpersanfrancisco   \n",
              "271358                           oxford university press   \n",
              "271359  mcgraw-hill humanities/social sciences/languages   \n",
              "\n",
              "                                              Image-URL-S  \\\n",
              "0       http://images.amazon.com/images/P/0195153448.0...   \n",
              "1       http://images.amazon.com/images/P/0002005018.0...   \n",
              "2       http://images.amazon.com/images/P/0060973129.0...   \n",
              "3       http://images.amazon.com/images/P/0374157065.0...   \n",
              "4       http://images.amazon.com/images/P/0393045218.0...   \n",
              "...                                                   ...   \n",
              "271355  http://images.amazon.com/images/P/0440400988.0...   \n",
              "271356  http://images.amazon.com/images/P/0525447644.0...   \n",
              "271357  http://images.amazon.com/images/P/006008667X.0...   \n",
              "271358  http://images.amazon.com/images/P/0192126040.0...   \n",
              "271359  http://images.amazon.com/images/P/0767409752.0...   \n",
              "\n",
              "                                              Image-URL-M  \\\n",
              "0       http://images.amazon.com/images/P/0195153448.0...   \n",
              "1       http://images.amazon.com/images/P/0002005018.0...   \n",
              "2       http://images.amazon.com/images/P/0060973129.0...   \n",
              "3       http://images.amazon.com/images/P/0374157065.0...   \n",
              "4       http://images.amazon.com/images/P/0393045218.0...   \n",
              "...                                                   ...   \n",
              "271355  http://images.amazon.com/images/P/0440400988.0...   \n",
              "271356  http://images.amazon.com/images/P/0525447644.0...   \n",
              "271357  http://images.amazon.com/images/P/006008667X.0...   \n",
              "271358  http://images.amazon.com/images/P/0192126040.0...   \n",
              "271359  http://images.amazon.com/images/P/0767409752.0...   \n",
              "\n",
              "                                              Image-URL-L  \n",
              "0       http://images.amazon.com/images/P/0195153448.0...  \n",
              "1       http://images.amazon.com/images/P/0002005018.0...  \n",
              "2       http://images.amazon.com/images/P/0060973129.0...  \n",
              "3       http://images.amazon.com/images/P/0374157065.0...  \n",
              "4       http://images.amazon.com/images/P/0393045218.0...  \n",
              "...                                                   ...  \n",
              "271355  http://images.amazon.com/images/P/0440400988.0...  \n",
              "271356  http://images.amazon.com/images/P/0525447644.0...  \n",
              "271357  http://images.amazon.com/images/P/006008667X.0...  \n",
              "271358  http://images.amazon.com/images/P/0192126040.0...  \n",
              "271359  http://images.amazon.com/images/P/0767409752.0...  \n",
              "\n",
              "[271360 rows x 8 columns]"
            ]
          },
          "execution_count": 7,
          "metadata": {},
          "output_type": "execute_result"
        }
      ],
      "source": [
        "new_books=books\n",
        "new_books[\"Book-Title\"]=new_books[\"Book-Title\"].str.lower()\n",
        "new_books[\"Book-Author\"]=new_books[\"Book-Author\"].str.lower()\n",
        "new_books[\"Publisher\"]=new_books[\"Publisher\"].str.lower()\n",
        "new_books"
      ]
    },
    {
      "cell_type": "code",
      "execution_count": 8,
      "id": "d2801eea",
      "metadata": {
        "id": "d2801eea"
      },
      "outputs": [],
      "source": [
        "reader = Reader(rating_scale=(0, 10))\n",
        "data=Dataset.load_from_df(ratings[[\"User-ID\", \"ISBN\", \"Book-Rating\"]], reader)"
      ]
    },
    {
      "cell_type": "code",
      "execution_count": 9,
      "id": "9a877def",
      "metadata": {
        "colab": {
          "base_uri": "https://localhost:8080/",
          "height": 493
        },
        "id": "9a877def",
        "outputId": "4276392e-52f2-4de0-c672-b6080e9b7f3b"
      },
      "outputs": [
        {
          "data": {
            "text/html": [
              "<div>\n",
              "<style scoped>\n",
              "    .dataframe tbody tr th:only-of-type {\n",
              "        vertical-align: middle;\n",
              "    }\n",
              "\n",
              "    .dataframe tbody tr th {\n",
              "        vertical-align: top;\n",
              "    }\n",
              "\n",
              "    .dataframe thead th {\n",
              "        text-align: right;\n",
              "    }\n",
              "</style>\n",
              "<table border=\"1\" class=\"dataframe\">\n",
              "  <thead>\n",
              "    <tr style=\"text-align: right;\">\n",
              "      <th></th>\n",
              "      <th>ISBN</th>\n",
              "      <th>Book-Title</th>\n",
              "      <th>Book-Author</th>\n",
              "      <th>Year-Of-Publication</th>\n",
              "      <th>Publisher</th>\n",
              "    </tr>\n",
              "  </thead>\n",
              "  <tbody>\n",
              "    <tr>\n",
              "      <th>0</th>\n",
              "      <td>0195153448</td>\n",
              "      <td>classical mythology</td>\n",
              "      <td>mark p. o. morford</td>\n",
              "      <td>2002</td>\n",
              "      <td>oxford university press</td>\n",
              "    </tr>\n",
              "    <tr>\n",
              "      <th>1</th>\n",
              "      <td>0002005018</td>\n",
              "      <td>clara callan</td>\n",
              "      <td>richard bruce wright</td>\n",
              "      <td>2001</td>\n",
              "      <td>harperflamingo canada</td>\n",
              "    </tr>\n",
              "    <tr>\n",
              "      <th>2</th>\n",
              "      <td>0060973129</td>\n",
              "      <td>decision in normandy</td>\n",
              "      <td>carlo d'este</td>\n",
              "      <td>1991</td>\n",
              "      <td>harperperennial</td>\n",
              "    </tr>\n",
              "    <tr>\n",
              "      <th>3</th>\n",
              "      <td>0374157065</td>\n",
              "      <td>flu: the story of the great influenza pandemic...</td>\n",
              "      <td>gina bari kolata</td>\n",
              "      <td>1999</td>\n",
              "      <td>farrar straus giroux</td>\n",
              "    </tr>\n",
              "    <tr>\n",
              "      <th>4</th>\n",
              "      <td>0393045218</td>\n",
              "      <td>the mummies of urumchi</td>\n",
              "      <td>e. j. w. barber</td>\n",
              "      <td>1999</td>\n",
              "      <td>w. w. norton &amp;amp; company</td>\n",
              "    </tr>\n",
              "    <tr>\n",
              "      <th>...</th>\n",
              "      <td>...</td>\n",
              "      <td>...</td>\n",
              "      <td>...</td>\n",
              "      <td>...</td>\n",
              "      <td>...</td>\n",
              "    </tr>\n",
              "    <tr>\n",
              "      <th>271355</th>\n",
              "      <td>0440400988</td>\n",
              "      <td>there's a bat in bunk five</td>\n",
              "      <td>paula danziger</td>\n",
              "      <td>1988</td>\n",
              "      <td>random house childrens pub (mm)</td>\n",
              "    </tr>\n",
              "    <tr>\n",
              "      <th>271356</th>\n",
              "      <td>0525447644</td>\n",
              "      <td>from one to one hundred</td>\n",
              "      <td>teri sloat</td>\n",
              "      <td>1991</td>\n",
              "      <td>dutton books</td>\n",
              "    </tr>\n",
              "    <tr>\n",
              "      <th>271357</th>\n",
              "      <td>006008667X</td>\n",
              "      <td>lily dale : the true story of the town that ta...</td>\n",
              "      <td>christine wicker</td>\n",
              "      <td>2004</td>\n",
              "      <td>harpersanfrancisco</td>\n",
              "    </tr>\n",
              "    <tr>\n",
              "      <th>271358</th>\n",
              "      <td>0192126040</td>\n",
              "      <td>republic (world's classics)</td>\n",
              "      <td>plato</td>\n",
              "      <td>1996</td>\n",
              "      <td>oxford university press</td>\n",
              "    </tr>\n",
              "    <tr>\n",
              "      <th>271359</th>\n",
              "      <td>0767409752</td>\n",
              "      <td>a guided tour of rene descartes' meditations o...</td>\n",
              "      <td>christopher  biffle</td>\n",
              "      <td>2000</td>\n",
              "      <td>mcgraw-hill humanities/social sciences/languages</td>\n",
              "    </tr>\n",
              "  </tbody>\n",
              "</table>\n",
              "<p>271360 rows × 5 columns</p>\n",
              "</div>"
            ],
            "text/plain": [
              "              ISBN                                         Book-Title  \\\n",
              "0       0195153448                                classical mythology   \n",
              "1       0002005018                                       clara callan   \n",
              "2       0060973129                               decision in normandy   \n",
              "3       0374157065  flu: the story of the great influenza pandemic...   \n",
              "4       0393045218                             the mummies of urumchi   \n",
              "...            ...                                                ...   \n",
              "271355  0440400988                         there's a bat in bunk five   \n",
              "271356  0525447644                            from one to one hundred   \n",
              "271357  006008667X  lily dale : the true story of the town that ta...   \n",
              "271358  0192126040                        republic (world's classics)   \n",
              "271359  0767409752  a guided tour of rene descartes' meditations o...   \n",
              "\n",
              "                 Book-Author Year-Of-Publication  \\\n",
              "0         mark p. o. morford                2002   \n",
              "1       richard bruce wright                2001   \n",
              "2               carlo d'este                1991   \n",
              "3           gina bari kolata                1999   \n",
              "4            e. j. w. barber                1999   \n",
              "...                      ...                 ...   \n",
              "271355        paula danziger                1988   \n",
              "271356            teri sloat                1991   \n",
              "271357      christine wicker                2004   \n",
              "271358                 plato                1996   \n",
              "271359   christopher  biffle                2000   \n",
              "\n",
              "                                               Publisher  \n",
              "0                                oxford university press  \n",
              "1                                  harperflamingo canada  \n",
              "2                                        harperperennial  \n",
              "3                                   farrar straus giroux  \n",
              "4                             w. w. norton &amp; company  \n",
              "...                                                  ...  \n",
              "271355                   random house childrens pub (mm)  \n",
              "271356                                      dutton books  \n",
              "271357                                harpersanfrancisco  \n",
              "271358                           oxford university press  \n",
              "271359  mcgraw-hill humanities/social sciences/languages  \n",
              "\n",
              "[271360 rows x 5 columns]"
            ]
          },
          "execution_count": 9,
          "metadata": {},
          "output_type": "execute_result"
        }
      ],
      "source": [
        "from sklearn.feature_extraction.text import TfidfVectorizer\n",
        "from sklearn.metrics.pairwise import cosine_similarity\n",
        "import re\n",
        "\n",
        "books_reco=books[[\"ISBN\", \"Book-Title\", \"Book-Author\", \"Year-Of-Publication\", \"Publisher\"]]\n",
        "tfidf=TfidfVectorizer()\n",
        "matrice = tfidf.fit_transform(books_reco[\"Book-Title\"])\n",
        "\n",
        "books_reco"
      ]
    },
    {
      "cell_type": "code",
      "execution_count": 10,
      "id": "AGfEiNUVx8eu",
      "metadata": {
        "colab": {
          "base_uri": "https://localhost:8080/"
        },
        "id": "AGfEiNUVx8eu",
        "outputId": "9b719baa-dbd9-4b40-99cf-5c75abf7ff56"
      },
      "outputs": [
        {
          "data": {
            "text/plain": [
              "(271360, 78765)"
            ]
          },
          "execution_count": 10,
          "metadata": {},
          "output_type": "execute_result"
        }
      ],
      "source": [
        "matrice.shape"
      ]
    },
    {
      "cell_type": "code",
      "execution_count": null,
      "id": "ee67e049",
      "metadata": {
        "id": "ee67e049"
      },
      "outputs": [],
      "source": [
        "query=\"the\"\n",
        "\n",
        "def search(query,vectorizer):\n",
        "    processed = re.sub(\"[^a-zA-Z0-9 ]\", \"\", query.lower())\n",
        "    query_vec = vectorizer.transform([query])\n",
        "    similarity = cosine_similarity(query_vec, tfidf).flatten()\n",
        "    indices = np.argpartition(similarity, -10)[-10:]\n",
        "    results = titles.iloc[indices]\n",
        "    results = results.sort_values(\"ratings\", ascending=False)\n",
        "\n",
        "    return results.head(5).style.format({'url': make_clickable, 'cover_image': show_image})"
      ]
    },
    {
      "cell_type": "code",
      "execution_count": 10,
      "id": "06574160",
      "metadata": {
        "id": "06574160"
      },
      "outputs": [],
      "source": [
        "#Recommandation basée sur le contenu\n",
        "\n",
        "vect = TfidfVectorizer()\n",
        "#matrice = vect.fit_transform(books_reco[\"Content\"])"
      ]
    },
    {
      "cell_type": "code",
      "execution_count": 14,
      "id": "R7uamA1MyInF",
      "metadata": {
        "colab": {
          "base_uri": "https://localhost:8080/"
        },
        "id": "R7uamA1MyInF",
        "outputId": "9ab3a53b-b8e7-4f29-a467-33d9be9e34b9"
      },
      "outputs": [
        {
          "name": "stdout",
          "output_type": "stream",
          "text": [
            "1. Document 10 - Similarité = 1.0000\n",
            "2. Document 32387 - Similarité = 0.5091\n",
            "3. Document 43359 - Similarité = 0.5091\n",
            "4. Document 60227 - Similarité = 0.4760\n",
            "5. Document 37379 - Similarité = 0.4760\n",
            "6. Document 4300 - Similarité = 0.4672\n",
            "7. Document 92800 - Similarité = 0.4672\n",
            "8. Document 125201 - Similarité = 0.4460\n",
            "9. Document 54792 - Similarité = 0.4456\n",
            "10. Document 141337 - Similarité = 0.4445\n"
          ]
        }
      ],
      "source": [
        "from sklearn.neighbors import NearestNeighbors\n",
        "\n",
        "# Initialisation avec la similarité cosinus\n",
        "nn = NearestNeighbors(n_neighbors=5, metric='cosine', algorithm='brute')\n",
        "nn.fit(matrice)  # Pas de .toarray() ici ! Sparse OK\n",
        "\n",
        "# Exemple : chercher les 5 documents les plus proches du document 42\n",
        "distances, indices = nn.kneighbors(matrice[10], n_neighbors=10)\n",
        "\n",
        "# Afficher résultats\n",
        "for i, (idx, dist) in enumerate(zip(indices[0], distances[0])):\n",
        "    print(f\"{i+1}. Document {idx} - Similarité = {1 - dist:.4f}\")\n"
      ]
    },
    {
      "cell_type": "code",
      "execution_count": null,
      "id": "3ac66a31",
      "metadata": {
        "id": "3ac66a31"
      },
      "outputs": [],
      "source": [
        "#similarity = cosine_similarity(matrice)\n",
        "#similarity"
      ]
    },
    {
      "cell_type": "code",
      "execution_count": null,
      "id": "d7169273",
      "metadata": {
        "id": "d7169273"
      },
      "outputs": [],
      "source": []
    },
    {
      "cell_type": "code",
      "execution_count": null,
      "id": "c9fddc02",
      "metadata": {
        "id": "c9fddc02",
        "outputId": "40bedd24-7e35-4ae0-be04-db665b75f3ca"
      },
      "outputs": [
        {
          "data": {
            "text/plain": [
              "<surprise.prediction_algorithms.matrix_factorization.SVD at 0x154022858d0>"
            ]
          },
          "execution_count": 10,
          "metadata": {},
          "output_type": "execute_result"
        }
      ],
      "source": [
        "#recommandation collaborative\n",
        "\n",
        "svd=SVD()\n",
        "train_set=data.build_full_trainset()\n",
        "svd.fit(train_set)"
      ]
    },
    {
      "cell_type": "code",
      "execution_count": null,
      "id": "ce2679ab",
      "metadata": {
        "id": "ce2679ab"
      },
      "outputs": [],
      "source": [
        "# Fonction de recommandation\n",
        "def reco_collab(user_id, n):\n",
        "    # Construire les éléments non encore notés par l'utilisateur\n",
        "    anti_testset = train_set.build_anti_testset()\n",
        "\n",
        "    # Filtrer pour ne garder que les éléments pour cet utilisateur\n",
        "    user_testset = [entry for entry in anti_testset if entry[0] == user_id]\n",
        "    print(user_testset)\n",
        "\n",
        "    # Prédire les notes\n",
        "    predictions = svd.test(user_testset)\n",
        "\n",
        "    # Trier par estimation décroissante\n",
        "    predictions.sort(key=lambda x: x.est, reverse=True)\n",
        "\n",
        "    # Récupérer les n meilleurs items\n",
        "    reco = [pred.iid for pred in predictions[:n]]\n",
        "    return reco"
      ]
    },
    {
      "cell_type": "code",
      "execution_count": null,
      "id": "05fbcf9f",
      "metadata": {
        "id": "05fbcf9f"
      },
      "outputs": [],
      "source": [
        "def reco_collab(user_id, n):\n",
        "    user_items = set(j for (j, _) in train_set.ur[user_id])\n",
        "\n",
        "    anti_testset_user = [\n",
        "        (user_id, train_set.to_raw_iid(i), 0)  # 0 est une note fictive\n",
        "        for i in train_set.all_items()\n",
        "        if i not in user_items\n",
        "    ]\n",
        "\n",
        "    predictions = svd.test(anti_testset_user)\n",
        "\n",
        "    predictions.sort(key=lambda x: x.est, reverse=True)\n",
        "\n",
        "    reco = [pred.iid for pred in predictions[:n]]\n",
        "    return reco\n"
      ]
    },
    {
      "cell_type": "code",
      "execution_count": null,
      "id": "ca1de188",
      "metadata": {
        "id": "ca1de188",
        "outputId": "ce8d42d1-3de0-41dc-e279-062516c0de2f"
      },
      "outputs": [
        {
          "data": {
            "text/plain": [
              "['1844262553', '0615116426', '8826703132', '0618002227', '3423071516']"
            ]
          },
          "execution_count": 13,
          "metadata": {},
          "output_type": "execute_result"
        }
      ],
      "source": [
        "reco_collab(276729, 5)"
      ]
    },
    {
      "cell_type": "code",
      "execution_count": null,
      "id": "ce5b229d",
      "metadata": {
        "id": "ce5b229d",
        "outputId": "73d1a3f5-edea-4e78-d721-d327c139b18d"
      },
      "outputs": [
        {
          "data": {
            "text/plain": [
              "2"
            ]
          },
          "execution_count": 5,
          "metadata": {},
          "output_type": "execute_result"
        }
      ],
      "source": [
        "len([\"Blasphemous\", \"Blasphemous 2\"])"
      ]
    },
    {
      "cell_type": "code",
      "execution_count": null,
      "id": "01f8bb03",
      "metadata": {
        "id": "01f8bb03"
      },
      "outputs": [],
      "source": []
    }
  ],
  "metadata": {
    "colab": {
      "provenance": []
    },
    "kernelspec": {
      "display_name": "Python 3",
      "language": "python",
      "name": "python3"
    },
    "language_info": {
      "codemirror_mode": {
        "name": "ipython",
        "version": 3
      },
      "file_extension": ".py",
      "mimetype": "text/x-python",
      "name": "python",
      "nbconvert_exporter": "python",
      "pygments_lexer": "ipython3",
      "version": "3.10.11"
    }
  },
  "nbformat": 4,
  "nbformat_minor": 5
}
